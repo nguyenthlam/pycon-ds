{
 "cells": [
  {
   "cell_type": "markdown",
   "metadata": {},
   "source": [
    "## Exploratory Analysis\n",
    "\n",
    "That's it for some preliminary cleaning. Don't worry, there will be more. Let's start to look in a bit more detail at the data, though. In this section, we're going to start to write some code that's typical for day-to-day data cleaning tasks."
   ]
  },
  {
   "cell_type": "code",
   "execution_count": 1,
   "metadata": {},
   "outputs": [],
   "source": [
    "from load_data import dta"
   ]
  },
  {
   "cell_type": "code",
   "execution_count": 11,
   "metadata": {},
   "outputs": [],
   "source": [
    "import pandas as pd"
   ]
  },
  {
   "cell_type": "markdown",
   "metadata": {},
   "source": [
    "We can use `info` to get some high-level information about the data."
   ]
  },
  {
   "cell_type": "code",
   "execution_count": 3,
   "metadata": {},
   "outputs": [
    {
     "name": "stdout",
     "output_type": "stream",
     "text": [
      "<class 'pandas.core.frame.DataFrame'>\n",
      "Int64Index: 25000 entries, 1965287 to 413268\n",
      "Data columns (total 15 columns):\n",
      "address            25000 non-null object\n",
      "aka_name           24709 non-null object\n",
      "city               24981 non-null object\n",
      "dba_name           25000 non-null object\n",
      "facility_type      24787 non-null category\n",
      "inspection_date    25000 non-null datetime64[ns]\n",
      "inspection_type    25000 non-null category\n",
      "latitude           24865 non-null float64\n",
      "license_           24996 non-null float64\n",
      "longitude          24865 non-null float64\n",
      "results            25000 non-null category\n",
      "risk               24995 non-null category\n",
      "state              24994 non-null object\n",
      "violations         23908 non-null object\n",
      "zip                24990 non-null object\n",
      "dtypes: category(4), datetime64[ns](1), float64(3), object(7)\n",
      "memory usage: 2.4+ MB\n"
     ]
    }
   ],
   "source": [
    "dta.info()"
   ]
  },
  {
   "cell_type": "markdown",
   "metadata": {},
   "source": [
    "And `describe` goes into a bit more detail for the *numeric* types, of which we don't have many here."
   ]
  },
  {
   "cell_type": "code",
   "execution_count": 4,
   "metadata": {},
   "outputs": [
    {
     "data": {
      "text/html": [
       "<div>\n",
       "<style scoped>\n",
       "    .dataframe tbody tr th:only-of-type {\n",
       "        vertical-align: middle;\n",
       "    }\n",
       "\n",
       "    .dataframe tbody tr th {\n",
       "        vertical-align: top;\n",
       "    }\n",
       "\n",
       "    .dataframe thead th {\n",
       "        text-align: right;\n",
       "    }\n",
       "</style>\n",
       "<table border=\"1\" class=\"dataframe\">\n",
       "  <thead>\n",
       "    <tr style=\"text-align: right;\">\n",
       "      <th></th>\n",
       "      <th>latitude</th>\n",
       "      <th>license_</th>\n",
       "      <th>longitude</th>\n",
       "    </tr>\n",
       "  </thead>\n",
       "  <tbody>\n",
       "    <tr>\n",
       "      <th>count</th>\n",
       "      <td>24865.000000</td>\n",
       "      <td>2.499600e+04</td>\n",
       "      <td>24865.000000</td>\n",
       "    </tr>\n",
       "    <tr>\n",
       "      <th>mean</th>\n",
       "      <td>41.879734</td>\n",
       "      <td>1.475028e+06</td>\n",
       "      <td>-87.675890</td>\n",
       "    </tr>\n",
       "    <tr>\n",
       "      <th>std</th>\n",
       "      <td>0.081968</td>\n",
       "      <td>8.912679e+05</td>\n",
       "      <td>0.058372</td>\n",
       "    </tr>\n",
       "    <tr>\n",
       "      <th>min</th>\n",
       "      <td>41.644670</td>\n",
       "      <td>0.000000e+00</td>\n",
       "      <td>-87.914428</td>\n",
       "    </tr>\n",
       "    <tr>\n",
       "      <th>25%</th>\n",
       "      <td>41.828059</td>\n",
       "      <td>1.000632e+06</td>\n",
       "      <td>-87.707209</td>\n",
       "    </tr>\n",
       "    <tr>\n",
       "      <th>50%</th>\n",
       "      <td>41.891528</td>\n",
       "      <td>1.884173e+06</td>\n",
       "      <td>-87.666377</td>\n",
       "    </tr>\n",
       "    <tr>\n",
       "      <th>75%</th>\n",
       "      <td>41.939792</td>\n",
       "      <td>2.134724e+06</td>\n",
       "      <td>-87.634533</td>\n",
       "    </tr>\n",
       "    <tr>\n",
       "      <th>max</th>\n",
       "      <td>42.021064</td>\n",
       "      <td>8.700606e+06</td>\n",
       "      <td>-87.525125</td>\n",
       "    </tr>\n",
       "  </tbody>\n",
       "</table>\n",
       "</div>"
      ],
      "text/plain": [
       "           latitude      license_     longitude\n",
       "count  24865.000000  2.499600e+04  24865.000000\n",
       "mean      41.879734  1.475028e+06    -87.675890\n",
       "std        0.081968  8.912679e+05      0.058372\n",
       "min       41.644670  0.000000e+00    -87.914428\n",
       "25%       41.828059  1.000632e+06    -87.707209\n",
       "50%       41.891528  1.884173e+06    -87.666377\n",
       "75%       41.939792  2.134724e+06    -87.634533\n",
       "max       42.021064  8.700606e+06    -87.525125"
      ]
     },
     "execution_count": 4,
     "metadata": {},
     "output_type": "execute_result"
    }
   ],
   "source": [
    "dta.describe()"
   ]
  },
  {
   "cell_type": "markdown",
   "metadata": {},
   "source": [
    "We could do the same for the categorical types."
   ]
  },
  {
   "cell_type": "code",
   "execution_count": 6,
   "metadata": {},
   "outputs": [
    {
     "data": {
      "text/html": [
       "<div>\n",
       "<style scoped>\n",
       "    .dataframe tbody tr th:only-of-type {\n",
       "        vertical-align: middle;\n",
       "    }\n",
       "\n",
       "    .dataframe tbody tr th {\n",
       "        vertical-align: top;\n",
       "    }\n",
       "\n",
       "    .dataframe thead th {\n",
       "        text-align: right;\n",
       "    }\n",
       "</style>\n",
       "<table border=\"1\" class=\"dataframe\">\n",
       "  <thead>\n",
       "    <tr style=\"text-align: right;\">\n",
       "      <th></th>\n",
       "      <th>facility_type</th>\n",
       "      <th>inspection_type</th>\n",
       "      <th>results</th>\n",
       "      <th>risk</th>\n",
       "    </tr>\n",
       "    <tr>\n",
       "      <th>inspection_id</th>\n",
       "      <th></th>\n",
       "      <th></th>\n",
       "      <th></th>\n",
       "      <th></th>\n",
       "    </tr>\n",
       "  </thead>\n",
       "  <tbody>\n",
       "    <tr>\n",
       "      <th>1965287</th>\n",
       "      <td>Restaurant</td>\n",
       "      <td>Canvass</td>\n",
       "      <td>Pass w/ Conditions</td>\n",
       "      <td>Risk 1 (High)</td>\n",
       "    </tr>\n",
       "    <tr>\n",
       "      <th>1329698</th>\n",
       "      <td>Restaurant</td>\n",
       "      <td>Canvass</td>\n",
       "      <td>Pass</td>\n",
       "      <td>Risk 1 (High)</td>\n",
       "    </tr>\n",
       "    <tr>\n",
       "      <th>470787</th>\n",
       "      <td>Restaurant</td>\n",
       "      <td>SFP</td>\n",
       "      <td>Fail</td>\n",
       "      <td>Risk 1 (High)</td>\n",
       "    </tr>\n",
       "    <tr>\n",
       "      <th>68091</th>\n",
       "      <td>Restaurant</td>\n",
       "      <td>Canvass</td>\n",
       "      <td>Pass</td>\n",
       "      <td>Risk 2 (Medium)</td>\n",
       "    </tr>\n",
       "    <tr>\n",
       "      <th>1335320</th>\n",
       "      <td>Mobile Food Dispenser</td>\n",
       "      <td>License Re-Inspection</td>\n",
       "      <td>Fail</td>\n",
       "      <td>Risk 3 (Low)</td>\n",
       "    </tr>\n",
       "  </tbody>\n",
       "</table>\n",
       "</div>"
      ],
      "text/plain": [
       "                       facility_type        inspection_type  \\\n",
       "inspection_id                                                 \n",
       "1965287                   Restaurant                Canvass   \n",
       "1329698                   Restaurant                Canvass   \n",
       "470787                    Restaurant                    SFP   \n",
       "68091                     Restaurant                Canvass   \n",
       "1335320        Mobile Food Dispenser  License Re-Inspection   \n",
       "\n",
       "                          results             risk  \n",
       "inspection_id                                       \n",
       "1965287        Pass w/ Conditions    Risk 1 (High)  \n",
       "1329698                      Pass    Risk 1 (High)  \n",
       "470787                       Fail    Risk 1 (High)  \n",
       "68091                        Pass  Risk 2 (Medium)  \n",
       "1335320                      Fail     Risk 3 (Low)  "
      ]
     },
     "execution_count": 6,
     "metadata": {},
     "output_type": "execute_result"
    }
   ],
   "source": [
    "dta.select_dtypes(['category']).head()"
   ]
  },
  {
   "cell_type": "code",
   "execution_count": 7,
   "metadata": {},
   "outputs": [
    {
     "data": {
      "text/html": [
       "<div>\n",
       "<style scoped>\n",
       "    .dataframe tbody tr th:only-of-type {\n",
       "        vertical-align: middle;\n",
       "    }\n",
       "\n",
       "    .dataframe tbody tr th {\n",
       "        vertical-align: top;\n",
       "    }\n",
       "\n",
       "    .dataframe thead th {\n",
       "        text-align: right;\n",
       "    }\n",
       "</style>\n",
       "<table border=\"1\" class=\"dataframe\">\n",
       "  <thead>\n",
       "    <tr style=\"text-align: right;\">\n",
       "      <th></th>\n",
       "      <th>facility_type</th>\n",
       "      <th>inspection_type</th>\n",
       "      <th>results</th>\n",
       "      <th>risk</th>\n",
       "    </tr>\n",
       "  </thead>\n",
       "  <tbody>\n",
       "    <tr>\n",
       "      <th>count</th>\n",
       "      <td>24787</td>\n",
       "      <td>25000</td>\n",
       "      <td>25000</td>\n",
       "      <td>24995</td>\n",
       "    </tr>\n",
       "    <tr>\n",
       "      <th>unique</th>\n",
       "      <td>226</td>\n",
       "      <td>40</td>\n",
       "      <td>7</td>\n",
       "      <td>4</td>\n",
       "    </tr>\n",
       "    <tr>\n",
       "      <th>top</th>\n",
       "      <td>Restaurant</td>\n",
       "      <td>Canvass</td>\n",
       "      <td>Pass</td>\n",
       "      <td>Risk 1 (High)</td>\n",
       "    </tr>\n",
       "    <tr>\n",
       "      <th>freq</th>\n",
       "      <td>16954</td>\n",
       "      <td>12487</td>\n",
       "      <td>15915</td>\n",
       "      <td>18249</td>\n",
       "    </tr>\n",
       "  </tbody>\n",
       "</table>\n",
       "</div>"
      ],
      "text/plain": [
       "       facility_type inspection_type results           risk\n",
       "count          24787           25000   25000          24995\n",
       "unique           226              40       7              4\n",
       "top       Restaurant         Canvass    Pass  Risk 1 (High)\n",
       "freq           16954           12487   15915          18249"
      ]
     },
     "execution_count": 7,
     "metadata": {},
     "output_type": "execute_result"
    }
   ],
   "source": [
    "dta.select_dtypes(['category']).describe()"
   ]
  },
  {
   "cell_type": "markdown",
   "metadata": {},
   "source": [
    "### GroupBy"
   ]
  },
  {
   "cell_type": "code",
   "execution_count": 15,
   "metadata": {},
   "outputs": [
    {
     "data": {
      "text/plain": [
       "Risk 1 (High)      18249\n",
       "Risk 2 (Medium)     5069\n",
       "Risk 3 (Low)        1675\n",
       "All                    2\n",
       "Name: risk, dtype: int64"
      ]
     },
     "execution_count": 15,
     "metadata": {},
     "output_type": "execute_result"
    }
   ],
   "source": [
    "dta.risk.value_counts()"
   ]
  },
  {
   "cell_type": "markdown",
   "metadata": {},
   "source": [
    "Now, let's ask the most obvious question. Which are the best and the worst restaurants? We'll want to use pandas `GroupBy` functionality to implement the `split-apply-combine` pattern.\n",
    "\n",
    "The idea here is that we **split** the data by some key or set of keys then **apply** a function to each group and then **combine** the outputs back into a single DataFrame."
   ]
  },
  {
   "cell_type": "code",
   "execution_count": 9,
   "metadata": {},
   "outputs": [
    {
     "data": {
      "text/plain": [
       "inspection_id\n",
       "1965287   -87.757220\n",
       "1329698   -87.775907\n",
       "470787    -87.668429\n",
       "68091     -87.645155\n",
       "1335320   -87.687507\n",
       "Name: longitude, dtype: float64"
      ]
     },
     "execution_count": 9,
     "metadata": {},
     "output_type": "execute_result"
    }
   ],
   "source": [
    "dta.longitude.head()"
   ]
  },
  {
   "cell_type": "markdown",
   "metadata": {},
   "source": [
    "First, let's see how many result categories there are. We can use `value_counts` to answer this question. "
   ]
  },
  {
   "cell_type": "code",
   "execution_count": 12,
   "metadata": {},
   "outputs": [
    {
     "name": "stdout",
     "output_type": "stream",
     "text": [
      "Pass                    15915\n",
      "Fail                     5760\n",
      "Pass w/ Conditions       2931\n",
      "Out of Business           246\n",
      "No Entry                  107\n",
      "Not Ready                  40\n",
      "Business Not Located        1\n",
      "Name: results, dtype: int64\n"
     ]
    }
   ],
   "source": [
    "with pd.option_context(\"max.rows\", 10):\n",
    "    print(dta.results.value_counts())"
   ]
  },
  {
   "cell_type": "code",
   "execution_count": 13,
   "metadata": {},
   "outputs": [
    {
     "data": {
      "text/html": [
       "<div>\n",
       "<style scoped>\n",
       "    .dataframe tbody tr th:only-of-type {\n",
       "        vertical-align: middle;\n",
       "    }\n",
       "\n",
       "    .dataframe tbody tr th {\n",
       "        vertical-align: top;\n",
       "    }\n",
       "\n",
       "    .dataframe thead th {\n",
       "        text-align: right;\n",
       "    }\n",
       "</style>\n",
       "<table border=\"1\" class=\"dataframe\">\n",
       "  <thead>\n",
       "    <tr style=\"text-align: right;\">\n",
       "      <th></th>\n",
       "      <th>address</th>\n",
       "      <th>aka_name</th>\n",
       "      <th>city</th>\n",
       "      <th>dba_name</th>\n",
       "      <th>facility_type</th>\n",
       "      <th>inspection_date</th>\n",
       "      <th>inspection_type</th>\n",
       "      <th>latitude</th>\n",
       "      <th>license_</th>\n",
       "      <th>longitude</th>\n",
       "      <th>results</th>\n",
       "      <th>risk</th>\n",
       "      <th>state</th>\n",
       "      <th>violations</th>\n",
       "      <th>zip</th>\n",
       "    </tr>\n",
       "    <tr>\n",
       "      <th>inspection_id</th>\n",
       "      <th></th>\n",
       "      <th></th>\n",
       "      <th></th>\n",
       "      <th></th>\n",
       "      <th></th>\n",
       "      <th></th>\n",
       "      <th></th>\n",
       "      <th></th>\n",
       "      <th></th>\n",
       "      <th></th>\n",
       "      <th></th>\n",
       "      <th></th>\n",
       "      <th></th>\n",
       "      <th></th>\n",
       "      <th></th>\n",
       "    </tr>\n",
       "  </thead>\n",
       "  <tbody>\n",
       "    <tr>\n",
       "      <th>1965287</th>\n",
       "      <td>5255 W MADISON ST</td>\n",
       "      <td>RED SNAPPER FISH CHICKEN &amp; PIZZA</td>\n",
       "      <td>CHICAGO</td>\n",
       "      <td>RED SNAPPER FISH CHICKEN &amp; PIZZA</td>\n",
       "      <td>Restaurant</td>\n",
       "      <td>2016-09-26</td>\n",
       "      <td>Canvass</td>\n",
       "      <td>41.880237</td>\n",
       "      <td>1991820.0</td>\n",
       "      <td>-87.757220</td>\n",
       "      <td>Pass w/ Conditions</td>\n",
       "      <td>Risk 1 (High)</td>\n",
       "      <td>IL</td>\n",
       "      <td>35. WALLS, CEILINGS, ATTACHED EQUIPMENT CONSTR...</td>\n",
       "      <td>60644</td>\n",
       "    </tr>\n",
       "    <tr>\n",
       "      <th>1329698</th>\n",
       "      <td>5958 W DIVERSEY AVE</td>\n",
       "      <td>TAQUERIA MORELOS</td>\n",
       "      <td>CHICAGO</td>\n",
       "      <td>TAQUERIA MORELOS</td>\n",
       "      <td>Restaurant</td>\n",
       "      <td>2014-02-06</td>\n",
       "      <td>Canvass</td>\n",
       "      <td>41.931250</td>\n",
       "      <td>2099479.0</td>\n",
       "      <td>-87.775907</td>\n",
       "      <td>Pass</td>\n",
       "      <td>Risk 1 (High)</td>\n",
       "      <td>IL</td>\n",
       "      <td>33. FOOD AND NON-FOOD CONTACT EQUIPMENT UTENSI...</td>\n",
       "      <td>60639</td>\n",
       "    </tr>\n",
       "    <tr>\n",
       "      <th>470787</th>\n",
       "      <td>5400-5402 N CLARK ST</td>\n",
       "      <td>HAMBURGER MARY'S/MARY'S REC ROOM</td>\n",
       "      <td>CHICAGO</td>\n",
       "      <td>HAMBURGER MARY'S CHICAGO/MARY'S REC ROOM</td>\n",
       "      <td>Restaurant</td>\n",
       "      <td>2010-12-03</td>\n",
       "      <td>SFP</td>\n",
       "      <td>41.979884</td>\n",
       "      <td>1933748.0</td>\n",
       "      <td>-87.668429</td>\n",
       "      <td>Fail</td>\n",
       "      <td>Risk 1 (High)</td>\n",
       "      <td>IL</td>\n",
       "      <td>6. HANDS WASHED AND CLEANED, GOOD HYGIENIC PRA...</td>\n",
       "      <td>60640</td>\n",
       "    </tr>\n",
       "    <tr>\n",
       "      <th>68091</th>\n",
       "      <td>2804 N CLARK ST</td>\n",
       "      <td>Wells Street Popcorn</td>\n",
       "      <td>CHICAGO</td>\n",
       "      <td>Wells Street Popcorn</td>\n",
       "      <td>Restaurant</td>\n",
       "      <td>2010-02-01</td>\n",
       "      <td>Canvass</td>\n",
       "      <td>41.932921</td>\n",
       "      <td>1954774.0</td>\n",
       "      <td>-87.645155</td>\n",
       "      <td>Pass</td>\n",
       "      <td>Risk 2 (Medium)</td>\n",
       "      <td>IL</td>\n",
       "      <td>NaN</td>\n",
       "      <td>60657</td>\n",
       "    </tr>\n",
       "    <tr>\n",
       "      <th>1335320</th>\n",
       "      <td>2409 N WESTERN AVE</td>\n",
       "      <td>CHICAGO CUPCAKE</td>\n",
       "      <td>CHICAGO</td>\n",
       "      <td>CHICAGO CUPCAKE LLC.</td>\n",
       "      <td>Mobile Food Dispenser</td>\n",
       "      <td>2013-05-03</td>\n",
       "      <td>License Re-Inspection</td>\n",
       "      <td>41.925218</td>\n",
       "      <td>2232391.0</td>\n",
       "      <td>-87.687507</td>\n",
       "      <td>Fail</td>\n",
       "      <td>Risk 3 (Low)</td>\n",
       "      <td>IL</td>\n",
       "      <td>32. FOOD AND NON-FOOD CONTACT SURFACES PROPERL...</td>\n",
       "      <td>60647</td>\n",
       "    </tr>\n",
       "  </tbody>\n",
       "</table>\n",
       "</div>"
      ],
      "text/plain": [
       "                             address                          aka_name  \\\n",
       "inspection_id                                                            \n",
       "1965287           5255 W MADISON ST   RED SNAPPER FISH CHICKEN & PIZZA   \n",
       "1329698         5958 W DIVERSEY AVE                   TAQUERIA MORELOS   \n",
       "470787         5400-5402 N CLARK ST   HAMBURGER MARY'S/MARY'S REC ROOM   \n",
       "68091               2804 N CLARK ST               Wells Street Popcorn   \n",
       "1335320          2409 N WESTERN AVE                    CHICAGO CUPCAKE   \n",
       "\n",
       "                  city                                  dba_name  \\\n",
       "inspection_id                                                      \n",
       "1965287        CHICAGO          RED SNAPPER FISH CHICKEN & PIZZA   \n",
       "1329698        CHICAGO                          TAQUERIA MORELOS   \n",
       "470787         CHICAGO  HAMBURGER MARY'S CHICAGO/MARY'S REC ROOM   \n",
       "68091          CHICAGO                      Wells Street Popcorn   \n",
       "1335320        CHICAGO                      CHICAGO CUPCAKE LLC.   \n",
       "\n",
       "                       facility_type inspection_date        inspection_type  \\\n",
       "inspection_id                                                                 \n",
       "1965287                   Restaurant      2016-09-26                Canvass   \n",
       "1329698                   Restaurant      2014-02-06                Canvass   \n",
       "470787                    Restaurant      2010-12-03                    SFP   \n",
       "68091                     Restaurant      2010-02-01                Canvass   \n",
       "1335320        Mobile Food Dispenser      2013-05-03  License Re-Inspection   \n",
       "\n",
       "                latitude   license_  longitude             results  \\\n",
       "inspection_id                                                        \n",
       "1965287        41.880237  1991820.0 -87.757220  Pass w/ Conditions   \n",
       "1329698        41.931250  2099479.0 -87.775907                Pass   \n",
       "470787         41.979884  1933748.0 -87.668429                Fail   \n",
       "68091          41.932921  1954774.0 -87.645155                Pass   \n",
       "1335320        41.925218  2232391.0 -87.687507                Fail   \n",
       "\n",
       "                          risk state  \\\n",
       "inspection_id                          \n",
       "1965287          Risk 1 (High)    IL   \n",
       "1329698          Risk 1 (High)    IL   \n",
       "470787           Risk 1 (High)    IL   \n",
       "68091          Risk 2 (Medium)    IL   \n",
       "1335320           Risk 3 (Low)    IL   \n",
       "\n",
       "                                                      violations    zip  \n",
       "inspection_id                                                            \n",
       "1965287        35. WALLS, CEILINGS, ATTACHED EQUIPMENT CONSTR...  60644  \n",
       "1329698        33. FOOD AND NON-FOOD CONTACT EQUIPMENT UTENSI...  60639  \n",
       "470787         6. HANDS WASHED AND CLEANED, GOOD HYGIENIC PRA...  60640  \n",
       "68091                                                        NaN  60657  \n",
       "1335320        32. FOOD AND NON-FOOD CONTACT SURFACES PROPERL...  60647  "
      ]
     },
     "execution_count": 13,
     "metadata": {},
     "output_type": "execute_result"
    }
   ],
   "source": [
    "dta.head()"
   ]
  },
  {
   "cell_type": "markdown",
   "metadata": {},
   "source": [
    "Ok, let's group on the inspection `results` column and see who the best and worst are.\n",
    "\n",
    "When we call the `groupby` method we get back a `DataFrameGroupBy` object."
   ]
  },
  {
   "cell_type": "code",
   "execution_count": 16,
   "metadata": {},
   "outputs": [],
   "source": [
    "grouper = dta.groupby(dta.results)"
   ]
  },
  {
   "cell_type": "code",
   "execution_count": 20,
   "metadata": {},
   "outputs": [
    {
     "data": {
      "text/html": [
       "<div>\n",
       "<style scoped>\n",
       "    .dataframe tbody tr th:only-of-type {\n",
       "        vertical-align: middle;\n",
       "    }\n",
       "\n",
       "    .dataframe tbody tr th {\n",
       "        vertical-align: top;\n",
       "    }\n",
       "\n",
       "    .dataframe thead th {\n",
       "        text-align: right;\n",
       "    }\n",
       "</style>\n",
       "<table border=\"1\" class=\"dataframe\">\n",
       "  <thead>\n",
       "    <tr style=\"text-align: right;\">\n",
       "      <th></th>\n",
       "      <th>address</th>\n",
       "      <th>aka_name</th>\n",
       "      <th>city</th>\n",
       "      <th>dba_name</th>\n",
       "      <th>facility_type</th>\n",
       "      <th>inspection_date</th>\n",
       "      <th>inspection_type</th>\n",
       "      <th>latitude</th>\n",
       "      <th>license_</th>\n",
       "      <th>longitude</th>\n",
       "      <th>results</th>\n",
       "      <th>risk</th>\n",
       "      <th>state</th>\n",
       "      <th>violations</th>\n",
       "      <th>zip</th>\n",
       "    </tr>\n",
       "    <tr>\n",
       "      <th>inspection_id</th>\n",
       "      <th></th>\n",
       "      <th></th>\n",
       "      <th></th>\n",
       "      <th></th>\n",
       "      <th></th>\n",
       "      <th></th>\n",
       "      <th></th>\n",
       "      <th></th>\n",
       "      <th></th>\n",
       "      <th></th>\n",
       "      <th></th>\n",
       "      <th></th>\n",
       "      <th></th>\n",
       "      <th></th>\n",
       "      <th></th>\n",
       "    </tr>\n",
       "  </thead>\n",
       "  <tbody>\n",
       "    <tr>\n",
       "      <th>1965287</th>\n",
       "      <td>5255 W MADISON ST</td>\n",
       "      <td>RED SNAPPER FISH CHICKEN &amp; PIZZA</td>\n",
       "      <td>CHICAGO</td>\n",
       "      <td>RED SNAPPER FISH CHICKEN &amp; PIZZA</td>\n",
       "      <td>Restaurant</td>\n",
       "      <td>2016-09-26</td>\n",
       "      <td>Canvass</td>\n",
       "      <td>41.880237</td>\n",
       "      <td>1991820.0</td>\n",
       "      <td>-87.757220</td>\n",
       "      <td>Pass w/ Conditions</td>\n",
       "      <td>Risk 1 (High)</td>\n",
       "      <td>IL</td>\n",
       "      <td>35. WALLS, CEILINGS, ATTACHED EQUIPMENT CONSTR...</td>\n",
       "      <td>60644</td>\n",
       "    </tr>\n",
       "    <tr>\n",
       "      <th>1329698</th>\n",
       "      <td>5958 W DIVERSEY AVE</td>\n",
       "      <td>TAQUERIA MORELOS</td>\n",
       "      <td>CHICAGO</td>\n",
       "      <td>TAQUERIA MORELOS</td>\n",
       "      <td>Restaurant</td>\n",
       "      <td>2014-02-06</td>\n",
       "      <td>Canvass</td>\n",
       "      <td>41.931250</td>\n",
       "      <td>2099479.0</td>\n",
       "      <td>-87.775907</td>\n",
       "      <td>Pass</td>\n",
       "      <td>Risk 1 (High)</td>\n",
       "      <td>IL</td>\n",
       "      <td>33. FOOD AND NON-FOOD CONTACT EQUIPMENT UTENSI...</td>\n",
       "      <td>60639</td>\n",
       "    </tr>\n",
       "    <tr>\n",
       "      <th>470787</th>\n",
       "      <td>5400-5402 N CLARK ST</td>\n",
       "      <td>HAMBURGER MARY'S/MARY'S REC ROOM</td>\n",
       "      <td>CHICAGO</td>\n",
       "      <td>HAMBURGER MARY'S CHICAGO/MARY'S REC ROOM</td>\n",
       "      <td>Restaurant</td>\n",
       "      <td>2010-12-03</td>\n",
       "      <td>SFP</td>\n",
       "      <td>41.979884</td>\n",
       "      <td>1933748.0</td>\n",
       "      <td>-87.668429</td>\n",
       "      <td>Fail</td>\n",
       "      <td>Risk 1 (High)</td>\n",
       "      <td>IL</td>\n",
       "      <td>6. HANDS WASHED AND CLEANED, GOOD HYGIENIC PRA...</td>\n",
       "      <td>60640</td>\n",
       "    </tr>\n",
       "    <tr>\n",
       "      <th>68091</th>\n",
       "      <td>2804 N CLARK ST</td>\n",
       "      <td>Wells Street Popcorn</td>\n",
       "      <td>CHICAGO</td>\n",
       "      <td>Wells Street Popcorn</td>\n",
       "      <td>Restaurant</td>\n",
       "      <td>2010-02-01</td>\n",
       "      <td>Canvass</td>\n",
       "      <td>41.932921</td>\n",
       "      <td>1954774.0</td>\n",
       "      <td>-87.645155</td>\n",
       "      <td>Pass</td>\n",
       "      <td>Risk 2 (Medium)</td>\n",
       "      <td>IL</td>\n",
       "      <td>NaN</td>\n",
       "      <td>60657</td>\n",
       "    </tr>\n",
       "    <tr>\n",
       "      <th>1335320</th>\n",
       "      <td>2409 N WESTERN AVE</td>\n",
       "      <td>CHICAGO CUPCAKE</td>\n",
       "      <td>CHICAGO</td>\n",
       "      <td>CHICAGO CUPCAKE LLC.</td>\n",
       "      <td>Mobile Food Dispenser</td>\n",
       "      <td>2013-05-03</td>\n",
       "      <td>License Re-Inspection</td>\n",
       "      <td>41.925218</td>\n",
       "      <td>2232391.0</td>\n",
       "      <td>-87.687507</td>\n",
       "      <td>Fail</td>\n",
       "      <td>Risk 3 (Low)</td>\n",
       "      <td>IL</td>\n",
       "      <td>32. FOOD AND NON-FOOD CONTACT SURFACES PROPERL...</td>\n",
       "      <td>60647</td>\n",
       "    </tr>\n",
       "    <tr>\n",
       "      <th>1228169</th>\n",
       "      <td>3481 S DR MARTIN LUTHER KING JR DR</td>\n",
       "      <td>DUNKIN DONUTS/BASKIN ROBBINS</td>\n",
       "      <td>CHICAGO</td>\n",
       "      <td>DUNKIN DONUTS/BASKIN ROBBINS</td>\n",
       "      <td>Restaurant</td>\n",
       "      <td>2013-09-16</td>\n",
       "      <td>Canvass</td>\n",
       "      <td>41.831186</td>\n",
       "      <td>1823777.0</td>\n",
       "      <td>-87.616821</td>\n",
       "      <td>Pass</td>\n",
       "      <td>Risk 2 (Medium)</td>\n",
       "      <td>IL</td>\n",
       "      <td>38. VENTILATION: ROOMS AND EQUIPMENT VENTED AS...</td>\n",
       "      <td>60616</td>\n",
       "    </tr>\n",
       "    <tr>\n",
       "      <th>1285582</th>\n",
       "      <td>3201-3203 W ARMITAGE AVE</td>\n",
       "      <td>STREET SIDE CAFE</td>\n",
       "      <td>CHICAGO</td>\n",
       "      <td>STREET SIDE CAFE</td>\n",
       "      <td>Restaurant</td>\n",
       "      <td>2012-09-27</td>\n",
       "      <td>Canvass</td>\n",
       "      <td>41.917291</td>\n",
       "      <td>84648.0</td>\n",
       "      <td>-87.707052</td>\n",
       "      <td>Pass w/ Conditions</td>\n",
       "      <td>Risk 1 (High)</td>\n",
       "      <td>IL</td>\n",
       "      <td>16. FOOD PROTECTED DURING STORAGE, PREPARATION...</td>\n",
       "      <td>60647</td>\n",
       "    </tr>\n",
       "    <tr>\n",
       "      <th>557486</th>\n",
       "      <td>5215 W CHICAGO AVE BLDG E2</td>\n",
       "      <td>GOLDEN HOOK FISH, CHICKEN</td>\n",
       "      <td>CHICAGO</td>\n",
       "      <td>GOLDEN HOOK FISH, CHICKEN</td>\n",
       "      <td>Restaurant</td>\n",
       "      <td>2011-08-11</td>\n",
       "      <td>Canvass</td>\n",
       "      <td>41.894815</td>\n",
       "      <td>2069859.0</td>\n",
       "      <td>-87.756302</td>\n",
       "      <td>Pass</td>\n",
       "      <td>Risk 2 (Medium)</td>\n",
       "      <td>IL</td>\n",
       "      <td>34. FLOORS: CONSTRUCTED PER CODE, CLEANED, GOO...</td>\n",
       "      <td>60651</td>\n",
       "    </tr>\n",
       "    <tr>\n",
       "      <th>74468</th>\n",
       "      <td>4445 S Drexel (900E)</td>\n",
       "      <td>KING COLLEGE PREP HIGH SCHOOL</td>\n",
       "      <td>CHICAGO</td>\n",
       "      <td>KING SELECTIVE ENROL.H/S</td>\n",
       "      <td>School</td>\n",
       "      <td>2010-05-26</td>\n",
       "      <td>Canvass</td>\n",
       "      <td>41.813695</td>\n",
       "      <td>46371.0</td>\n",
       "      <td>-87.603838</td>\n",
       "      <td>Pass</td>\n",
       "      <td>Risk 1 (High)</td>\n",
       "      <td>IL</td>\n",
       "      <td>32. FOOD AND NON-FOOD CONTACT SURFACES PROPERL...</td>\n",
       "      <td>60653</td>\n",
       "    </tr>\n",
       "    <tr>\n",
       "      <th>1150454</th>\n",
       "      <td>10123 S WESTERN AVE</td>\n",
       "      <td>CHUCK'S PIZZA</td>\n",
       "      <td>CHICAGO</td>\n",
       "      <td>CHUCK'S PIZZA</td>\n",
       "      <td>Restaurant</td>\n",
       "      <td>2012-06-11</td>\n",
       "      <td>Canvass</td>\n",
       "      <td>41.709331</td>\n",
       "      <td>75945.0</td>\n",
       "      <td>-87.681564</td>\n",
       "      <td>Pass w/ Conditions</td>\n",
       "      <td>Risk 2 (Medium)</td>\n",
       "      <td>IL</td>\n",
       "      <td>21. * CERTIFIED FOOD MANAGER ON SITE WHEN POTE...</td>\n",
       "      <td>60643</td>\n",
       "    </tr>\n",
       "    <tr>\n",
       "      <th>1448016</th>\n",
       "      <td>60 E OHIO ST</td>\n",
       "      <td>BIG BOWL</td>\n",
       "      <td>CHICAGO</td>\n",
       "      <td>BIG BOWL</td>\n",
       "      <td>Restaurant</td>\n",
       "      <td>2015-10-01</td>\n",
       "      <td>Complaint</td>\n",
       "      <td>41.892625</td>\n",
       "      <td>1573666.0</td>\n",
       "      <td>-87.625726</td>\n",
       "      <td>Fail</td>\n",
       "      <td>Risk 1 (High)</td>\n",
       "      <td>IL</td>\n",
       "      <td>8. SANITIZING RINSE FOR EQUIPMENT AND UTENSILS...</td>\n",
       "      <td>60611</td>\n",
       "    </tr>\n",
       "    <tr>\n",
       "      <th>1324353</th>\n",
       "      <td>1400 S JEFFERSON ST</td>\n",
       "      <td>BROWN CAFE CHICAGO</td>\n",
       "      <td>CHICAGO</td>\n",
       "      <td>BROWN CAFE CHICAGO</td>\n",
       "      <td>Restaurant</td>\n",
       "      <td>2013-03-12</td>\n",
       "      <td>Canvass</td>\n",
       "      <td>41.863501</td>\n",
       "      <td>2042739.0</td>\n",
       "      <td>-87.642210</td>\n",
       "      <td>Pass w/ Conditions</td>\n",
       "      <td>Risk 1 (High)</td>\n",
       "      <td>IL</td>\n",
       "      <td>21. * CERTIFIED FOOD MANAGER ON SITE WHEN POTE...</td>\n",
       "      <td>60607</td>\n",
       "    </tr>\n",
       "    <tr>\n",
       "      <th>468107</th>\n",
       "      <td>6560 S WESTERN AVE</td>\n",
       "      <td>SUNRISE TO SUNSET FOOD MART, INC</td>\n",
       "      <td>CHICAGO</td>\n",
       "      <td>SUNRISE TO SUNSET FOOD MART, INC</td>\n",
       "      <td>Grocery Store</td>\n",
       "      <td>2010-12-01</td>\n",
       "      <td>License</td>\n",
       "      <td>41.773871</td>\n",
       "      <td>2068988.0</td>\n",
       "      <td>-87.683644</td>\n",
       "      <td>Fail</td>\n",
       "      <td>Risk 3 (Low)</td>\n",
       "      <td>IL</td>\n",
       "      <td>9. WATER SOURCE: SAFE, HOT &amp; COLD UNDER CITY P...</td>\n",
       "      <td>60636</td>\n",
       "    </tr>\n",
       "    <tr>\n",
       "      <th>1751612</th>\n",
       "      <td>2203 N CLYBOURN AVE</td>\n",
       "      <td>RICE CAFE</td>\n",
       "      <td>CHICAGO</td>\n",
       "      <td>RICE CAFE</td>\n",
       "      <td>Restaurant</td>\n",
       "      <td>2016-04-07</td>\n",
       "      <td>Canvass Re-Inspection</td>\n",
       "      <td>41.921777</td>\n",
       "      <td>1803589.0</td>\n",
       "      <td>-87.664413</td>\n",
       "      <td>Fail</td>\n",
       "      <td>Risk 1 (High)</td>\n",
       "      <td>IL</td>\n",
       "      <td>13. NO EVIDENCE OF RODENT OR INSECT INFESTATIO...</td>\n",
       "      <td>60614</td>\n",
       "    </tr>\n",
       "    <tr>\n",
       "      <th>547881</th>\n",
       "      <td>1874 S KEDZIE AVE</td>\n",
       "      <td>BUY &amp; FLY STORE</td>\n",
       "      <td>CHICAGO</td>\n",
       "      <td>BUY &amp; FLY STORE</td>\n",
       "      <td>Grocery Store</td>\n",
       "      <td>2011-12-14</td>\n",
       "      <td>Complaint Re-Inspection</td>\n",
       "      <td>41.855583</td>\n",
       "      <td>1622363.0</td>\n",
       "      <td>-87.705511</td>\n",
       "      <td>Pass w/ Conditions</td>\n",
       "      <td>Risk 3 (Low)</td>\n",
       "      <td>IL</td>\n",
       "      <td>18. NO EVIDENCE OF RODENT OR INSECT OUTER OPEN...</td>\n",
       "      <td>60623</td>\n",
       "    </tr>\n",
       "    <tr>\n",
       "      <th>284278</th>\n",
       "      <td>3813-3815 W CHICAGO AVE</td>\n",
       "      <td>SUGA RAY'S SPORTS GRILL</td>\n",
       "      <td>CHICAGO</td>\n",
       "      <td>SUGA RAY'S SPORTS GRILL</td>\n",
       "      <td>Restaurant</td>\n",
       "      <td>2010-08-12</td>\n",
       "      <td>Canvass</td>\n",
       "      <td>41.895297</td>\n",
       "      <td>1922230.0</td>\n",
       "      <td>-87.721800</td>\n",
       "      <td>Out of Business</td>\n",
       "      <td>Risk 2 (Medium)</td>\n",
       "      <td>IL</td>\n",
       "      <td>NaN</td>\n",
       "      <td>60651</td>\n",
       "    </tr>\n",
       "    <tr>\n",
       "      <th>1589030</th>\n",
       "      <td>6237 S HALSTED PKWY</td>\n",
       "      <td>SUBWAY</td>\n",
       "      <td>CHICAGO</td>\n",
       "      <td>SUBWAY</td>\n",
       "      <td>Restaurant</td>\n",
       "      <td>2015-11-24</td>\n",
       "      <td>Canvass</td>\n",
       "      <td>NaN</td>\n",
       "      <td>2079231.0</td>\n",
       "      <td>NaN</td>\n",
       "      <td>Out of Business</td>\n",
       "      <td>Risk 1 (High)</td>\n",
       "      <td>IL</td>\n",
       "      <td>NaN</td>\n",
       "      <td>60621</td>\n",
       "    </tr>\n",
       "    <tr>\n",
       "      <th>2081349</th>\n",
       "      <td>1039 W LAWRENCE AVE</td>\n",
       "      <td>THE LORALI</td>\n",
       "      <td>CHICAGO</td>\n",
       "      <td>THE LORALI</td>\n",
       "      <td>Restaurant</td>\n",
       "      <td>2017-08-31</td>\n",
       "      <td>Consultation</td>\n",
       "      <td>41.968959</td>\n",
       "      <td>78919.0</td>\n",
       "      <td>-87.656367</td>\n",
       "      <td>Out of Business</td>\n",
       "      <td>Risk 1 (High)</td>\n",
       "      <td>IL</td>\n",
       "      <td>34. FLOORS: CONSTRUCTED PER CODE, CLEANED, GOO...</td>\n",
       "      <td>60640</td>\n",
       "    </tr>\n",
       "    <tr>\n",
       "      <th>1975482</th>\n",
       "      <td>11610 S WESTERN AVE</td>\n",
       "      <td>CULLINAN'S STADIUM CLUB</td>\n",
       "      <td>CHICAGO</td>\n",
       "      <td>CULLINAN'S STADIUM CLUB</td>\n",
       "      <td>Restaurant</td>\n",
       "      <td>2016-11-15</td>\n",
       "      <td>Canvass Re-Inspection</td>\n",
       "      <td>41.682344</td>\n",
       "      <td>34135.0</td>\n",
       "      <td>-87.681008</td>\n",
       "      <td>No Entry</td>\n",
       "      <td>Risk 2 (Medium)</td>\n",
       "      <td>IL</td>\n",
       "      <td>14. PREVIOUS SERIOUS VIOLATION CORRECTED, 7-42...</td>\n",
       "      <td>60643</td>\n",
       "    </tr>\n",
       "    <tr>\n",
       "      <th>1453840</th>\n",
       "      <td>2018 W DIVISION ST</td>\n",
       "      <td>PICANTE TAQUERIA</td>\n",
       "      <td>CHICAGO</td>\n",
       "      <td>DELISH DINER</td>\n",
       "      <td>Restaurant</td>\n",
       "      <td>2015-03-23</td>\n",
       "      <td>Canvass</td>\n",
       "      <td>41.903286</td>\n",
       "      <td>2042823.0</td>\n",
       "      <td>-87.678066</td>\n",
       "      <td>Out of Business</td>\n",
       "      <td>Risk 1 (High)</td>\n",
       "      <td>IL</td>\n",
       "      <td>NaN</td>\n",
       "      <td>60622</td>\n",
       "    </tr>\n",
       "    <tr>\n",
       "      <th>1983237</th>\n",
       "      <td>2409 E 79TH ST</td>\n",
       "      <td>EAST SIDE ACADEMY OF EARLY LEARNING INC</td>\n",
       "      <td>CHICAGO</td>\n",
       "      <td>EAST SIDE ACADEMY OF EARLY LEARNING INC</td>\n",
       "      <td>Daycare (2 - 6 Years)</td>\n",
       "      <td>2017-09-14</td>\n",
       "      <td>Canvass</td>\n",
       "      <td>41.751624</td>\n",
       "      <td>2256412.0</td>\n",
       "      <td>-87.565833</td>\n",
       "      <td>Out of Business</td>\n",
       "      <td>Risk 1 (High)</td>\n",
       "      <td>IL</td>\n",
       "      <td>NaN</td>\n",
       "      <td>60649</td>\n",
       "    </tr>\n",
       "    <tr>\n",
       "      <th>1326520</th>\n",
       "      <td>2625 N HARLEM AVE</td>\n",
       "      <td>CAFFE ITALIA</td>\n",
       "      <td>CHICAGO</td>\n",
       "      <td>CAFFE ITALIA</td>\n",
       "      <td>Restaurant</td>\n",
       "      <td>2013-03-25</td>\n",
       "      <td>Canvass Re-Inspection</td>\n",
       "      <td>41.927927</td>\n",
       "      <td>9648.0</td>\n",
       "      <td>-87.806246</td>\n",
       "      <td>No Entry</td>\n",
       "      <td>Risk 1 (High)</td>\n",
       "      <td>IL</td>\n",
       "      <td>18. NO EVIDENCE OF RODENT OR INSECT OUTER OPEN...</td>\n",
       "      <td>60707</td>\n",
       "    </tr>\n",
       "    <tr>\n",
       "      <th>2078787</th>\n",
       "      <td>7315 S KEDZIE AVE</td>\n",
       "      <td>LUGANOS PIZZA</td>\n",
       "      <td>CHICAGO</td>\n",
       "      <td>LUGANOS PIZZA</td>\n",
       "      <td>Restaurant</td>\n",
       "      <td>2017-08-22</td>\n",
       "      <td>Canvass</td>\n",
       "      <td>41.760356</td>\n",
       "      <td>2120806.0</td>\n",
       "      <td>-87.702364</td>\n",
       "      <td>No Entry</td>\n",
       "      <td>Risk 1 (High)</td>\n",
       "      <td>IL</td>\n",
       "      <td>NaN</td>\n",
       "      <td>60629</td>\n",
       "    </tr>\n",
       "    <tr>\n",
       "      <th>2089194</th>\n",
       "      <td>3119-3121 N CENTRAL AVE</td>\n",
       "      <td>LA COSTA</td>\n",
       "      <td>CHICAGO</td>\n",
       "      <td>LA COSTA</td>\n",
       "      <td>Restaurant</td>\n",
       "      <td>2017-10-03</td>\n",
       "      <td>License</td>\n",
       "      <td>41.937355</td>\n",
       "      <td>2523040.0</td>\n",
       "      <td>-87.766307</td>\n",
       "      <td>Not Ready</td>\n",
       "      <td>Risk 1 (High)</td>\n",
       "      <td>IL</td>\n",
       "      <td>NaN</td>\n",
       "      <td>60634</td>\n",
       "    </tr>\n",
       "    <tr>\n",
       "      <th>2098837</th>\n",
       "      <td>1117 W GRANVILLE AVE</td>\n",
       "      <td>DUNKIN DONUTS</td>\n",
       "      <td>CHICAGO</td>\n",
       "      <td>DUNKIN DONUTS</td>\n",
       "      <td>Restaurant</td>\n",
       "      <td>2017-10-13</td>\n",
       "      <td>License</td>\n",
       "      <td>41.994458</td>\n",
       "      <td>2560537.0</td>\n",
       "      <td>-87.659026</td>\n",
       "      <td>Not Ready</td>\n",
       "      <td>Risk 2 (Medium)</td>\n",
       "      <td>IL</td>\n",
       "      <td>NaN</td>\n",
       "      <td>60660</td>\n",
       "    </tr>\n",
       "    <tr>\n",
       "      <th>1591298</th>\n",
       "      <td>2604 W LAWRENCE AVE</td>\n",
       "      <td>PAPA GIORGIO'S PIZZERIA</td>\n",
       "      <td>CHICAGO</td>\n",
       "      <td>PAPA GIORGIO'S PIZZERIA INC.</td>\n",
       "      <td>Restaurant</td>\n",
       "      <td>2015-12-02</td>\n",
       "      <td>Canvass</td>\n",
       "      <td>41.968679</td>\n",
       "      <td>1542518.0</td>\n",
       "      <td>-87.694030</td>\n",
       "      <td>No Entry</td>\n",
       "      <td>Risk 2 (Medium)</td>\n",
       "      <td>IL</td>\n",
       "      <td>32. FOOD AND NON-FOOD CONTACT SURFACES PROPERL...</td>\n",
       "      <td>60625</td>\n",
       "    </tr>\n",
       "    <tr>\n",
       "      <th>1966792</th>\n",
       "      <td>3759 W OHIO ST</td>\n",
       "      <td>RAMOS GROCERY INC.</td>\n",
       "      <td>CHICAGO</td>\n",
       "      <td>RAMOS GROCERY INC.</td>\n",
       "      <td>Grocery Store</td>\n",
       "      <td>2016-10-19</td>\n",
       "      <td>Canvass Re-Inspection</td>\n",
       "      <td>41.891631</td>\n",
       "      <td>2054421.0</td>\n",
       "      <td>-87.721031</td>\n",
       "      <td>No Entry</td>\n",
       "      <td>Risk 2 (Medium)</td>\n",
       "      <td>IL</td>\n",
       "      <td>10. SEWAGE AND WASTE WATER DISPOSAL, NO BACK S...</td>\n",
       "      <td>60624</td>\n",
       "    </tr>\n",
       "    <tr>\n",
       "      <th>2071652</th>\n",
       "      <td>734 W FULLERTON PKWY</td>\n",
       "      <td>PHILLY BROS</td>\n",
       "      <td>CHICAGO</td>\n",
       "      <td>PHILLY BROS</td>\n",
       "      <td>Restaurant</td>\n",
       "      <td>2017-07-31</td>\n",
       "      <td>License</td>\n",
       "      <td>41.925579</td>\n",
       "      <td>2549016.0</td>\n",
       "      <td>-87.647689</td>\n",
       "      <td>Not Ready</td>\n",
       "      <td>Risk 2 (Medium)</td>\n",
       "      <td>IL</td>\n",
       "      <td>NaN</td>\n",
       "      <td>60614</td>\n",
       "    </tr>\n",
       "    <tr>\n",
       "      <th>2088610</th>\n",
       "      <td>7156 S DORCHESTER AVE</td>\n",
       "      <td>EDEN SOUTH SHORE</td>\n",
       "      <td>CHICAGO</td>\n",
       "      <td>EDEN SOUTH SHORE</td>\n",
       "      <td>NaN</td>\n",
       "      <td>2017-09-21</td>\n",
       "      <td>License</td>\n",
       "      <td>41.764303</td>\n",
       "      <td>2559448.0</td>\n",
       "      <td>-87.591096</td>\n",
       "      <td>Not Ready</td>\n",
       "      <td>All</td>\n",
       "      <td>IL</td>\n",
       "      <td>NaN</td>\n",
       "      <td>60619</td>\n",
       "    </tr>\n",
       "    <tr>\n",
       "      <th>1981958</th>\n",
       "      <td>950 ESTES CT</td>\n",
       "      <td>PIKO STREET KITCHEN</td>\n",
       "      <td>SCHAUMBURG</td>\n",
       "      <td>PIKO STREET KITCHEN</td>\n",
       "      <td>Mobile Food Preparer</td>\n",
       "      <td>2017-01-24</td>\n",
       "      <td>License</td>\n",
       "      <td>NaN</td>\n",
       "      <td>2496125.0</td>\n",
       "      <td>NaN</td>\n",
       "      <td>Not Ready</td>\n",
       "      <td>Risk 2 (Medium)</td>\n",
       "      <td>IL</td>\n",
       "      <td>NaN</td>\n",
       "      <td>60193</td>\n",
       "    </tr>\n",
       "    <tr>\n",
       "      <th>284799</th>\n",
       "      <td>9415-9431 S STATE ST</td>\n",
       "      <td>CITGO SUPER WASH &amp; GAS</td>\n",
       "      <td>CHICAGO</td>\n",
       "      <td>CITGO SUPER WASH &amp; GAS</td>\n",
       "      <td>Grocery Store</td>\n",
       "      <td>2010-08-26</td>\n",
       "      <td>License</td>\n",
       "      <td>41.723070</td>\n",
       "      <td>2054009.0</td>\n",
       "      <td>-87.623639</td>\n",
       "      <td>Business Not Located</td>\n",
       "      <td>Risk 3 (Low)</td>\n",
       "      <td>IL</td>\n",
       "      <td>NaN</td>\n",
       "      <td>60619</td>\n",
       "    </tr>\n",
       "  </tbody>\n",
       "</table>\n",
       "</div>"
      ],
      "text/plain": [
       "                                           address  \\\n",
       "inspection_id                                        \n",
       "1965287                         5255 W MADISON ST    \n",
       "1329698                       5958 W DIVERSEY AVE    \n",
       "470787                       5400-5402 N CLARK ST    \n",
       "68091                             2804 N CLARK ST    \n",
       "1335320                        2409 N WESTERN AVE    \n",
       "1228169        3481 S DR MARTIN LUTHER KING JR DR    \n",
       "1285582                  3201-3203 W ARMITAGE AVE    \n",
       "557486                  5215 W CHICAGO AVE BLDG E2   \n",
       "74468                        4445 S Drexel (900E)    \n",
       "1150454                       10123 S WESTERN AVE    \n",
       "1448016                              60 E OHIO ST    \n",
       "1324353                       1400 S JEFFERSON ST    \n",
       "468107                         6560 S WESTERN AVE    \n",
       "1751612                       2203 N CLYBOURN AVE    \n",
       "547881                          1874 S KEDZIE AVE    \n",
       "284278                    3813-3815 W CHICAGO AVE    \n",
       "1589030                       6237 S HALSTED PKWY    \n",
       "2081349                       1039 W LAWRENCE AVE    \n",
       "1975482                       11610 S WESTERN AVE    \n",
       "1453840                        2018 W DIVISION ST    \n",
       "1983237                            2409 E 79TH ST    \n",
       "1326520                         2625 N HARLEM AVE    \n",
       "2078787                         7315 S KEDZIE AVE    \n",
       "2089194                   3119-3121 N CENTRAL AVE    \n",
       "2098837                      1117 W GRANVILLE AVE    \n",
       "1591298                       2604 W LAWRENCE AVE    \n",
       "1966792                            3759 W OHIO ST    \n",
       "2071652                      734 W FULLERTON PKWY    \n",
       "2088610                     7156 S DORCHESTER AVE    \n",
       "1981958                              950 ESTES CT    \n",
       "284799                       9415-9431 S STATE ST    \n",
       "\n",
       "                                              aka_name        city  \\\n",
       "inspection_id                                                        \n",
       "1965287               RED SNAPPER FISH CHICKEN & PIZZA     CHICAGO   \n",
       "1329698                               TAQUERIA MORELOS     CHICAGO   \n",
       "470787                HAMBURGER MARY'S/MARY'S REC ROOM     CHICAGO   \n",
       "68091                             Wells Street Popcorn     CHICAGO   \n",
       "1335320                                CHICAGO CUPCAKE     CHICAGO   \n",
       "1228169                   DUNKIN DONUTS/BASKIN ROBBINS     CHICAGO   \n",
       "1285582                               STREET SIDE CAFE     CHICAGO   \n",
       "557486                       GOLDEN HOOK FISH, CHICKEN     CHICAGO   \n",
       "74468                    KING COLLEGE PREP HIGH SCHOOL     CHICAGO   \n",
       "1150454                                  CHUCK'S PIZZA     CHICAGO   \n",
       "1448016                                       BIG BOWL     CHICAGO   \n",
       "1324353                             BROWN CAFE CHICAGO     CHICAGO   \n",
       "468107                SUNRISE TO SUNSET FOOD MART, INC     CHICAGO   \n",
       "1751612                                      RICE CAFE     CHICAGO   \n",
       "547881                                 BUY & FLY STORE     CHICAGO   \n",
       "284278                         SUGA RAY'S SPORTS GRILL     CHICAGO   \n",
       "1589030                                         SUBWAY     CHICAGO   \n",
       "2081349                                     THE LORALI     CHICAGO   \n",
       "1975482                        CULLINAN'S STADIUM CLUB     CHICAGO   \n",
       "1453840                               PICANTE TAQUERIA     CHICAGO   \n",
       "1983237        EAST SIDE ACADEMY OF EARLY LEARNING INC     CHICAGO   \n",
       "1326520                                   CAFFE ITALIA     CHICAGO   \n",
       "2078787                                  LUGANOS PIZZA     CHICAGO   \n",
       "2089194                                       LA COSTA     CHICAGO   \n",
       "2098837                                  DUNKIN DONUTS     CHICAGO   \n",
       "1591298                        PAPA GIORGIO'S PIZZERIA     CHICAGO   \n",
       "1966792                             RAMOS GROCERY INC.     CHICAGO   \n",
       "2071652                                    PHILLY BROS     CHICAGO   \n",
       "2088610                               EDEN SOUTH SHORE     CHICAGO   \n",
       "1981958                            PIKO STREET KITCHEN  SCHAUMBURG   \n",
       "284799                          CITGO SUPER WASH & GAS     CHICAGO   \n",
       "\n",
       "                                               dba_name  \\\n",
       "inspection_id                                             \n",
       "1965287                RED SNAPPER FISH CHICKEN & PIZZA   \n",
       "1329698                                TAQUERIA MORELOS   \n",
       "470787         HAMBURGER MARY'S CHICAGO/MARY'S REC ROOM   \n",
       "68091                              Wells Street Popcorn   \n",
       "1335320                            CHICAGO CUPCAKE LLC.   \n",
       "1228169                    DUNKIN DONUTS/BASKIN ROBBINS   \n",
       "1285582                                STREET SIDE CAFE   \n",
       "557486                        GOLDEN HOOK FISH, CHICKEN   \n",
       "74468                          KING SELECTIVE ENROL.H/S   \n",
       "1150454                                   CHUCK'S PIZZA   \n",
       "1448016                                        BIG BOWL   \n",
       "1324353                              BROWN CAFE CHICAGO   \n",
       "468107                 SUNRISE TO SUNSET FOOD MART, INC   \n",
       "1751612                                       RICE CAFE   \n",
       "547881                                  BUY & FLY STORE   \n",
       "284278                          SUGA RAY'S SPORTS GRILL   \n",
       "1589030                                          SUBWAY   \n",
       "2081349                                      THE LORALI   \n",
       "1975482                         CULLINAN'S STADIUM CLUB   \n",
       "1453840                                    DELISH DINER   \n",
       "1983237         EAST SIDE ACADEMY OF EARLY LEARNING INC   \n",
       "1326520                                    CAFFE ITALIA   \n",
       "2078787                                   LUGANOS PIZZA   \n",
       "2089194                                        LA COSTA   \n",
       "2098837                                   DUNKIN DONUTS   \n",
       "1591298                    PAPA GIORGIO'S PIZZERIA INC.   \n",
       "1966792                              RAMOS GROCERY INC.   \n",
       "2071652                                     PHILLY BROS   \n",
       "2088610                                EDEN SOUTH SHORE   \n",
       "1981958                             PIKO STREET KITCHEN   \n",
       "284799                           CITGO SUPER WASH & GAS   \n",
       "\n",
       "                       facility_type inspection_date          inspection_type  \\\n",
       "inspection_id                                                                   \n",
       "1965287                   Restaurant      2016-09-26                  Canvass   \n",
       "1329698                   Restaurant      2014-02-06                  Canvass   \n",
       "470787                    Restaurant      2010-12-03                      SFP   \n",
       "68091                     Restaurant      2010-02-01                  Canvass   \n",
       "1335320        Mobile Food Dispenser      2013-05-03    License Re-Inspection   \n",
       "1228169                   Restaurant      2013-09-16                  Canvass   \n",
       "1285582                   Restaurant      2012-09-27                  Canvass   \n",
       "557486                    Restaurant      2011-08-11                  Canvass   \n",
       "74468                         School      2010-05-26                  Canvass   \n",
       "1150454                   Restaurant      2012-06-11                  Canvass   \n",
       "1448016                   Restaurant      2015-10-01                Complaint   \n",
       "1324353                   Restaurant      2013-03-12                  Canvass   \n",
       "468107                 Grocery Store      2010-12-01                  License   \n",
       "1751612                   Restaurant      2016-04-07    Canvass Re-Inspection   \n",
       "547881                 Grocery Store      2011-12-14  Complaint Re-Inspection   \n",
       "284278                    Restaurant      2010-08-12                  Canvass   \n",
       "1589030                   Restaurant      2015-11-24                  Canvass   \n",
       "2081349                   Restaurant      2017-08-31             Consultation   \n",
       "1975482                   Restaurant      2016-11-15    Canvass Re-Inspection   \n",
       "1453840                   Restaurant      2015-03-23                  Canvass   \n",
       "1983237        Daycare (2 - 6 Years)      2017-09-14                  Canvass   \n",
       "1326520                   Restaurant      2013-03-25    Canvass Re-Inspection   \n",
       "2078787                   Restaurant      2017-08-22                  Canvass   \n",
       "2089194                   Restaurant      2017-10-03                  License   \n",
       "2098837                   Restaurant      2017-10-13                  License   \n",
       "1591298                   Restaurant      2015-12-02                  Canvass   \n",
       "1966792                Grocery Store      2016-10-19    Canvass Re-Inspection   \n",
       "2071652                   Restaurant      2017-07-31                  License   \n",
       "2088610                          NaN      2017-09-21                  License   \n",
       "1981958         Mobile Food Preparer      2017-01-24                  License   \n",
       "284799                 Grocery Store      2010-08-26                  License   \n",
       "\n",
       "                latitude   license_  longitude               results  \\\n",
       "inspection_id                                                          \n",
       "1965287        41.880237  1991820.0 -87.757220    Pass w/ Conditions   \n",
       "1329698        41.931250  2099479.0 -87.775907                  Pass   \n",
       "470787         41.979884  1933748.0 -87.668429                  Fail   \n",
       "68091          41.932921  1954774.0 -87.645155                  Pass   \n",
       "1335320        41.925218  2232391.0 -87.687507                  Fail   \n",
       "1228169        41.831186  1823777.0 -87.616821                  Pass   \n",
       "1285582        41.917291    84648.0 -87.707052    Pass w/ Conditions   \n",
       "557486         41.894815  2069859.0 -87.756302                  Pass   \n",
       "74468          41.813695    46371.0 -87.603838                  Pass   \n",
       "1150454        41.709331    75945.0 -87.681564    Pass w/ Conditions   \n",
       "1448016        41.892625  1573666.0 -87.625726                  Fail   \n",
       "1324353        41.863501  2042739.0 -87.642210    Pass w/ Conditions   \n",
       "468107         41.773871  2068988.0 -87.683644                  Fail   \n",
       "1751612        41.921777  1803589.0 -87.664413                  Fail   \n",
       "547881         41.855583  1622363.0 -87.705511    Pass w/ Conditions   \n",
       "284278         41.895297  1922230.0 -87.721800       Out of Business   \n",
       "1589030              NaN  2079231.0        NaN       Out of Business   \n",
       "2081349        41.968959    78919.0 -87.656367       Out of Business   \n",
       "1975482        41.682344    34135.0 -87.681008              No Entry   \n",
       "1453840        41.903286  2042823.0 -87.678066       Out of Business   \n",
       "1983237        41.751624  2256412.0 -87.565833       Out of Business   \n",
       "1326520        41.927927     9648.0 -87.806246              No Entry   \n",
       "2078787        41.760356  2120806.0 -87.702364              No Entry   \n",
       "2089194        41.937355  2523040.0 -87.766307             Not Ready   \n",
       "2098837        41.994458  2560537.0 -87.659026             Not Ready   \n",
       "1591298        41.968679  1542518.0 -87.694030              No Entry   \n",
       "1966792        41.891631  2054421.0 -87.721031              No Entry   \n",
       "2071652        41.925579  2549016.0 -87.647689             Not Ready   \n",
       "2088610        41.764303  2559448.0 -87.591096             Not Ready   \n",
       "1981958              NaN  2496125.0        NaN             Not Ready   \n",
       "284799         41.723070  2054009.0 -87.623639  Business Not Located   \n",
       "\n",
       "                          risk state  \\\n",
       "inspection_id                          \n",
       "1965287          Risk 1 (High)    IL   \n",
       "1329698          Risk 1 (High)    IL   \n",
       "470787           Risk 1 (High)    IL   \n",
       "68091          Risk 2 (Medium)    IL   \n",
       "1335320           Risk 3 (Low)    IL   \n",
       "1228169        Risk 2 (Medium)    IL   \n",
       "1285582          Risk 1 (High)    IL   \n",
       "557486         Risk 2 (Medium)    IL   \n",
       "74468            Risk 1 (High)    IL   \n",
       "1150454        Risk 2 (Medium)    IL   \n",
       "1448016          Risk 1 (High)    IL   \n",
       "1324353          Risk 1 (High)    IL   \n",
       "468107            Risk 3 (Low)    IL   \n",
       "1751612          Risk 1 (High)    IL   \n",
       "547881            Risk 3 (Low)    IL   \n",
       "284278         Risk 2 (Medium)    IL   \n",
       "1589030          Risk 1 (High)    IL   \n",
       "2081349          Risk 1 (High)    IL   \n",
       "1975482        Risk 2 (Medium)    IL   \n",
       "1453840          Risk 1 (High)    IL   \n",
       "1983237          Risk 1 (High)    IL   \n",
       "1326520          Risk 1 (High)    IL   \n",
       "2078787          Risk 1 (High)    IL   \n",
       "2089194          Risk 1 (High)    IL   \n",
       "2098837        Risk 2 (Medium)    IL   \n",
       "1591298        Risk 2 (Medium)    IL   \n",
       "1966792        Risk 2 (Medium)    IL   \n",
       "2071652        Risk 2 (Medium)    IL   \n",
       "2088610                    All    IL   \n",
       "1981958        Risk 2 (Medium)    IL   \n",
       "284799            Risk 3 (Low)    IL   \n",
       "\n",
       "                                                      violations    zip  \n",
       "inspection_id                                                            \n",
       "1965287        35. WALLS, CEILINGS, ATTACHED EQUIPMENT CONSTR...  60644  \n",
       "1329698        33. FOOD AND NON-FOOD CONTACT EQUIPMENT UTENSI...  60639  \n",
       "470787         6. HANDS WASHED AND CLEANED, GOOD HYGIENIC PRA...  60640  \n",
       "68091                                                        NaN  60657  \n",
       "1335320        32. FOOD AND NON-FOOD CONTACT SURFACES PROPERL...  60647  \n",
       "1228169        38. VENTILATION: ROOMS AND EQUIPMENT VENTED AS...  60616  \n",
       "1285582        16. FOOD PROTECTED DURING STORAGE, PREPARATION...  60647  \n",
       "557486         34. FLOORS: CONSTRUCTED PER CODE, CLEANED, GOO...  60651  \n",
       "74468          32. FOOD AND NON-FOOD CONTACT SURFACES PROPERL...  60653  \n",
       "1150454        21. * CERTIFIED FOOD MANAGER ON SITE WHEN POTE...  60643  \n",
       "1448016        8. SANITIZING RINSE FOR EQUIPMENT AND UTENSILS...  60611  \n",
       "1324353        21. * CERTIFIED FOOD MANAGER ON SITE WHEN POTE...  60607  \n",
       "468107         9. WATER SOURCE: SAFE, HOT & COLD UNDER CITY P...  60636  \n",
       "1751612        13. NO EVIDENCE OF RODENT OR INSECT INFESTATIO...  60614  \n",
       "547881         18. NO EVIDENCE OF RODENT OR INSECT OUTER OPEN...  60623  \n",
       "284278                                                       NaN  60651  \n",
       "1589030                                                      NaN  60621  \n",
       "2081349        34. FLOORS: CONSTRUCTED PER CODE, CLEANED, GOO...  60640  \n",
       "1975482        14. PREVIOUS SERIOUS VIOLATION CORRECTED, 7-42...  60643  \n",
       "1453840                                                      NaN  60622  \n",
       "1983237                                                      NaN  60649  \n",
       "1326520        18. NO EVIDENCE OF RODENT OR INSECT OUTER OPEN...  60707  \n",
       "2078787                                                      NaN  60629  \n",
       "2089194                                                      NaN  60634  \n",
       "2098837                                                      NaN  60660  \n",
       "1591298        32. FOOD AND NON-FOOD CONTACT SURFACES PROPERL...  60625  \n",
       "1966792        10. SEWAGE AND WASTE WATER DISPOSAL, NO BACK S...  60624  \n",
       "2071652                                                      NaN  60614  \n",
       "2088610                                                      NaN  60619  \n",
       "1981958                                                      NaN  60193  \n",
       "284799                                                       NaN  60619  "
      ]
     },
     "execution_count": 20,
     "metadata": {},
     "output_type": "execute_result"
    }
   ],
   "source": [
    "grouper.head()"
   ]
  },
  {
   "cell_type": "markdown",
   "metadata": {},
   "source": [
    "You can access the variables on this object, the same as a DataFrame, and any code called will execute within the groups."
   ]
  },
  {
   "cell_type": "code",
   "execution_count": 18,
   "metadata": {},
   "outputs": [],
   "source": [
    "result = grouper.dba_name.value_counts()"
   ]
  },
  {
   "cell_type": "markdown",
   "metadata": {},
   "source": [
    "The result is a Series with a `MultiIndex`."
   ]
  },
  {
   "cell_type": "code",
   "execution_count": 19,
   "metadata": {},
   "outputs": [
    {
     "data": {
      "text/plain": [
       "results               dba_name                              \n",
       "Business Not Located  CITGO SUPER WASH & GAS                     1\n",
       "Fail                  SUBWAY                                    42\n",
       "                      DUNKIN DONUTS                             33\n",
       "                      MCDONALD'S                                20\n",
       "                      HAROLD'S CHICKEN SHACK                    14\n",
       "                      CHIPOTLE MEXICAN GRILL                    11\n",
       "                      DUNKIN DONUTS / BASKIN ROBBINS            10\n",
       "                      7-ELEVEN                                   9\n",
       "                      MCDONALDS                                  9\n",
       "                      POTBELLY SANDWICH WORKS                    9\n",
       "                      POTBELLY SANDWICH WORKS LLC                9\n",
       "                      JIMMY JOHNS                                8\n",
       "                      LAS ISLAS MARIAS                           8\n",
       "                      KFC                                        7\n",
       "                      PIZZA HUT                                  7\n",
       "                      BAR LOUIE                                  6\n",
       "                      CORNER BAKERY CAFE                         6\n",
       "                      DUNKIN DONUTS/BASKIN ROBBINS               6\n",
       "                      EL TACONAZO RESTAURANT                     6\n",
       "                      FRESHII                                    6\n",
       "                      HALSTED STREET DELI                        6\n",
       "                      OLD COUNTRY BUFFET                         6\n",
       "                      SHARKS FISH & CHICKEN                      6\n",
       "                      AMAZING GRACE DAYCARE CENTER               5\n",
       "                      ANTON DVORAK ELEMENTARY                    5\n",
       "                      CHURCH'S CHICKEN # 992                     5\n",
       "                      CITGO                                      5\n",
       "                      Congress Pizza                             5\n",
       "                      DOMINO'S PIZZA                             5\n",
       "                      EL CHILE RESTAURANT & PANCAKE HOUSE        5\n",
       "                                                                ..\n",
       "Pass w/ Conditions    WOW BAO                                    1\n",
       "                      WRIGLEVILLE DBA DUNKIN DONUTS              1\n",
       "                      WRIGLEY ROOFTOPS III                       1\n",
       "                      Walgreens # 05192                          1\n",
       "                      Walmart Neighborhood Market #5646          1\n",
       "                      WingStop                                   1\n",
       "                      XANDO COFFEE & BAR / COSI SANDWICH BAR     1\n",
       "                      XOCO                                       1\n",
       "                      XSPORT FITNESS                             1\n",
       "                      YARD HOUSE                                 1\n",
       "                      YOGURTLAND                                 1\n",
       "                      YOLANDA'S RESTAURANT INC                   1\n",
       "                      YOLK CAFE                                  1\n",
       "                      YON'S DELI                                 1\n",
       "                      YOSHI'S CAFE                               1\n",
       "                      YOUNG'S RESTAURANT                         1\n",
       "                      YOUTH CONNECTION                           1\n",
       "                      YUCA  CAFE                                 1\n",
       "                      Yuki Hana                                  1\n",
       "                      Z-A PIZZA                                  1\n",
       "                      ZACATACOS                                  1\n",
       "                      ZACATACOS, II. INC                         1\n",
       "                      ZAKI CHICAGO STYLE GRILLE                  1\n",
       "                      ZALESKI & HORVATH MARKETCAFE               1\n",
       "                      ZEENAT  BANQUETS  INC                      1\n",
       "                      ZELLA                                      1\n",
       "                      ZOOM PIZZA FACTORY, INC.                   1\n",
       "                      ZUZU WRAPS INC                             1\n",
       "                      Zaytune Mediterranean Grill                1\n",
       "                      subway restaurant 1                        1\n",
       "Name: dba_name, Length: 16459, dtype: int64"
      ]
     },
     "execution_count": 19,
     "metadata": {},
     "output_type": "execute_result"
    }
   ],
   "source": [
    "result"
   ]
  },
  {
   "cell_type": "code",
   "execution_count": 21,
   "metadata": {},
   "outputs": [
    {
     "data": {
      "text/plain": [
       "FrozenList(['results', 'dba_name'])"
      ]
     },
     "execution_count": 21,
     "metadata": {},
     "output_type": "execute_result"
    }
   ],
   "source": [
    "result.index.names"
   ]
  },
  {
   "cell_type": "markdown",
   "metadata": {},
   "source": [
    "We can index on the first element in a `MultiIndex` using square brackets and then use `sort_values` to find those restaurants that had a result of Fail the most."
   ]
  },
  {
   "cell_type": "code",
   "execution_count": 22,
   "metadata": {},
   "outputs": [
    {
     "name": "stdout",
     "output_type": "stream",
     "text": [
      "dba_name\n",
      "SUBWAY                            42\n",
      "DUNKIN DONUTS                     33\n",
      "MCDONALD'S                        20\n",
      "HAROLD'S CHICKEN SHACK            14\n",
      "CHIPOTLE MEXICAN GRILL            11\n",
      "DUNKIN DONUTS / BASKIN ROBBINS    10\n",
      "MCDONALDS                          9\n",
      "                                  ..\n",
      "MERCY'S TOBACCO                    1\n",
      "MERCY HOME FOR BOYS AND GIRLS      1\n",
      "MERCER 113                         1\n",
      "MELLOS PEANUT COMPANY              1\n",
      "MEHRAB SUPER MARKET                1\n",
      "MEERATH KABAB                      1\n",
      "HALSTED FOOD                       1\n",
      "Name: dba_name, Length: 4424, dtype: int64\n"
     ]
    }
   ],
   "source": [
    "with pd.option_context('max.rows', 15):\n",
    "    print(result[\"Fail\"].sort_values(ascending=False))"
   ]
  },
  {
   "cell_type": "markdown",
   "metadata": {},
   "source": [
    "Take a closer look above. Looks like we have some more data cleaning to do."
   ]
  },
  {
   "cell_type": "code",
   "execution_count": 23,
   "metadata": {},
   "outputs": [
    {
     "name": "stdout",
     "output_type": "stream",
     "text": [
      "dba_name\n",
      "SUBWAY                            219\n",
      "DUNKIN DONUTS                     118\n",
      "MCDONALD'S                         42\n",
      "7-ELEVEN                           38\n",
      "AU BON PAIN                        29\n",
      "POTBELLY SANDWICH WORKS LLC        29\n",
      "CHIPOTLE MEXICAN GRILL             27\n",
      "                                 ... \n",
      "KATERINA'S STREET OF DREAMS         1\n",
      "KATAKANA & FIESTA & KOKO GRILL      1\n",
      "KASEY'S TAVERN                      1\n",
      "KARYN'S ON GREEN                    1\n",
      "KARLA'S KITCHEN INC.                1\n",
      "KARLA'S KITCHEN                     1\n",
      "CITY DOUGH                          1\n",
      "Name: dba_name, Length: 9328, dtype: int64\n"
     ]
    }
   ],
   "source": [
    "with pd.option_context('max.rows', 15):\n",
    "    print(result[\"Pass\"].sort_values(ascending=False))"
   ]
  },
  {
   "cell_type": "markdown",
   "metadata": {},
   "source": [
    "This is probably not the right way to think about this since there are many more Subways than local establishments.\n",
    "\n",
    "We could instead look at the ratio of Fail to Pass, though, of course, this isn't perfect either. \n",
    "\n",
    "Sometimes, it's not *always* obvious how to go about computing things that you want to compute. The `get_group` method allows you to pull out one of the split DataFrames and try your apply function on it."
   ]
  },
  {
   "cell_type": "markdown",
   "metadata": {},
   "source": [
    "## Exercise\n",
    "\n",
    "GroupBy the `dba_name`. Use `get_group` to pull out the \"MCDONALD'S\" group. Write a function that calculates the relative number of Fail to Pass for this group. Run this function on the McDonald's group."
   ]
  },
  {
   "cell_type": "code",
   "execution_count": null,
   "metadata": {},
   "outputs": [],
   "source": [
    "# Type your solution here"
   ]
  },
  {
   "cell_type": "code",
   "execution_count": null,
   "metadata": {},
   "outputs": [],
   "source": [
    "# %load solutions/get_group.py\n",
    "grouper = dta.groupby(dta.dba_name)\n",
    "mcd = grouper.get_group(\"MCDONALD'S\")\n",
    "\n",
    "\n",
    "def relative_results(df):\n",
    "    values = df.value_counts()\n",
    "    return values['Fail'] / values['Pass']\n",
    "\n",
    "\n",
    "relative_results(mcd.results)\n",
    "\n",
    "# And we see McDonald's failed 50% as many inspections as it Passed.\n"
   ]
  },
  {
   "cell_type": "markdown",
   "metadata": {},
   "source": [
    "We can run this on everything, but it's going to be a little slow. Let's look at another way to approach this problem.\n",
    "\n",
    "Here group by *both* the inspection results and the DBA name. Then we ask for the `size` of each one of these groups."
   ]
  },
  {
   "cell_type": "code",
   "execution_count": null,
   "metadata": {},
   "outputs": [],
   "source": [
    "result = dta.groupby((dta.results, dta.dba_name)).size()"
   ]
  },
  {
   "cell_type": "code",
   "execution_count": null,
   "metadata": {},
   "outputs": [],
   "source": [
    "result"
   ]
  },
  {
   "cell_type": "markdown",
   "metadata": {},
   "source": [
    "We can use the `div` method to divide these for us. As you can see the indices don't line up, but we don't have to worry about it. Pandas take care of index alignment for us."
   ]
  },
  {
   "cell_type": "code",
   "execution_count": null,
   "metadata": {},
   "outputs": [],
   "source": [
    "result[\"Fail\"]"
   ]
  },
  {
   "cell_type": "code",
   "execution_count": null,
   "metadata": {},
   "outputs": [],
   "source": [
    "result[\"Pass\"]"
   ]
  },
  {
   "cell_type": "code",
   "execution_count": null,
   "metadata": {},
   "outputs": [],
   "source": [
    "ratio = result[\"Fail\"].div(result[\"Pass\"])\n",
    "ratio.sort_values(ascending=False, inplace=True)\n",
    "ratio"
   ]
  },
  {
   "cell_type": "markdown",
   "metadata": {},
   "source": [
    "We have a lot of `NaN`s in the results from division-by-zero. We can drop those with a call to `dropna`. Also note that pandas lets you decide whether to treat `inf` as an NA."
   ]
  },
  {
   "cell_type": "code",
   "execution_count": null,
   "metadata": {},
   "outputs": [],
   "source": [
    "with pd.option_context(\"use_inf_as_null\", True,\n",
    "                       \"max.rows\", 15):\n",
    "    print(ratio.dropna())"
   ]
  },
  {
   "cell_type": "markdown",
   "metadata": {},
   "source": [
    "We might still not be wholly satisfied with our rules around comparisons here. First, we're looking at restaurant names not particular establishments. What does the distribution of inspection visits for establishments look like."
   ]
  },
  {
   "cell_type": "code",
   "execution_count": null,
   "metadata": {},
   "outputs": [],
   "source": [
    "with pd.option_context(\"max.rows\", 10):\n",
    "    grouper = dta.groupby((dta.address, dta.dba_name))\n",
    "    print(grouper.size().describe())"
   ]
  },
  {
   "cell_type": "markdown",
   "metadata": {},
   "source": [
    "Ok, let's make things a little more challenging. Let's see what the Fail:Pass ratio is for restaurants with at least 3 visits that involved a high risk level. \n",
    "\n",
    "\n",
    "Now we're starting to get into some much more powerful pandas constructs."
   ]
  },
  {
   "cell_type": "code",
   "execution_count": null,
   "metadata": {},
   "outputs": [],
   "source": [
    "visited = (dta.query(\"risk == 'Risk 1 (High)'\")\n",
    "           .groupby(('address', 'dba_name'))\n",
    "           .size()\n",
    "           .rename('n_visits')\n",
    "           .reset_index()  # make into a DataFrame\n",
    "           .query(\"n_visits >= 4\"))\n",
    "\n",
    "visited"
   ]
  },
  {
   "cell_type": "markdown",
   "metadata": {},
   "source": [
    "Let's unpack this. The first thing to note is how this code is organized. Each one of these methods return a pandas data structure on which we call the next method. This is called **method chaining**. We use the same trick seen above to split strings across lines to split several method calls by including the code between `()`.\n",
    "\n",
    "Next, we see several new methods. The first is **query**. When subsetting a DataFrame we have a few options. As we save above, we can index a DataFrame using integers. Likewise, we could pass an object of booleans as well."
   ]
  },
  {
   "cell_type": "code",
   "execution_count": null,
   "metadata": {},
   "outputs": [],
   "source": [
    "dta.risk == \"Risk 1 (High)\""
   ]
  },
  {
   "cell_type": "code",
   "execution_count": null,
   "metadata": {},
   "outputs": [],
   "source": [
    "dta.loc[dta.risk == \"Risk 1 (High)\"]"
   ]
  },
  {
   "cell_type": "markdown",
   "metadata": {},
   "source": [
    "Always using indexing can be verbose, however. You may need compound statements, for example."
   ]
  },
  {
   "cell_type": "code",
   "execution_count": null,
   "metadata": {},
   "outputs": [],
   "source": [
    "dta.loc[(dta.risk == \"Risk 1 (High)\") | (dta.risk == \"Risk 1 (Medium)\")].head()"
   ]
  },
  {
   "cell_type": "markdown",
   "metadata": {},
   "source": [
    "Instead, by using query we could write the following, which is slightly easier."
   ]
  },
  {
   "cell_type": "code",
   "execution_count": null,
   "metadata": {},
   "outputs": [],
   "source": [
    "dta.query(\"(risk == 'Risk 1 (High)') | (risk == 'Risk 1 (Medium)')\").head()"
   ]
  },
  {
   "cell_type": "markdown",
   "metadata": {},
   "source": [
    "## Exercise\n",
    "\n",
    "Use `query` to find the visits that are to restaurants and that are complaint re-inspections."
   ]
  },
  {
   "cell_type": "code",
   "execution_count": null,
   "metadata": {},
   "outputs": [],
   "source": [
    "# Type your solution here"
   ]
  },
  {
   "cell_type": "code",
   "execution_count": null,
   "metadata": {},
   "outputs": [],
   "source": [
    "%load solutions/query.py"
   ]
  },
  {
   "cell_type": "markdown",
   "metadata": {},
   "source": [
    "```python\n",
    "visited = (dta.query(\"risk == 'Risk 1 (High)'\")\n",
    "           .groupby(('address', 'dba_name'))\n",
    "           .size()\n",
    "           .rename('n_visits')  # size returns a nameless series\n",
    "           .reset_index()  # make into a DataFrame\n",
    "           .query(\"n_visits >= 4\"))\n",
    "```\n",
    "\n",
    "\n",
    "The next new method is the **rename** method. We use this to rename the unnamed Series returned by `size`.\n",
    "\n",
    "Finally, we filter on restaurants with 4 or more total visits."
   ]
  },
  {
   "cell_type": "markdown",
   "metadata": {},
   "source": [
    "The final piece is computing the Fail:Pass ratio of these restaurants. To do this, we need to take the output we've created `visited` and line our original data up with these addresses and DBA names."
   ]
  },
  {
   "cell_type": "code",
   "execution_count": null,
   "metadata": {},
   "outputs": [],
   "source": [
    "visited.head()"
   ]
  },
  {
   "cell_type": "markdown",
   "metadata": {},
   "source": [
    "We can do this by using the **merge** method. Merge allows us to make two pandas DataFrames into a single DataFrame. By default, the `merge` method will join together two DataFrames on common columns, using an inner join method (a set intersection)."
   ]
  },
  {
   "cell_type": "code",
   "execution_count": null,
   "metadata": {},
   "outputs": [],
   "source": [
    "merged_visits = visited.merge(dta)\n",
    "merged_visits.head()"
   ]
  },
  {
   "cell_type": "markdown",
   "metadata": {},
   "source": [
    "Now, we need to redo the analysis we started above for McDonald's. We take these merged DataFrames, group them by the inspection results, the address, and the DBA name and ask for the size of each group."
   ]
  },
  {
   "cell_type": "code",
   "execution_count": null,
   "metadata": {},
   "outputs": [],
   "source": [
    "(merged_visits\n",
    " .groupby(('results', 'address', 'dba_name'))\n",
    " .size()).head()"
   ]
  },
  {
   "cell_type": "markdown",
   "metadata": {},
   "source": [
    "## Exercise\n",
    "\n",
    "Take this result and **pipe** it (using the `pipe` method) to a function that computes Fail/Pass. Make sure your result does not have any missing values, and sort it such that those with the highest Fail/Pass ratios are highest.\n",
    "\n",
    "The **pipe** method allows for including user-defined functions in method chains. It takes the output of the thing on the left, and passes it to the thing on the right."
   ]
  },
  {
   "cell_type": "code",
   "execution_count": null,
   "metadata": {},
   "outputs": [],
   "source": [
    "# Type your solution here"
   ]
  },
  {
   "cell_type": "code",
   "execution_count": null,
   "metadata": {},
   "outputs": [],
   "source": [
    "%load solutions/pipe_results.py"
   ]
  },
  {
   "cell_type": "markdown",
   "metadata": {},
   "source": [
    "## Exercise\n",
    "\n",
    "Now, take everything that we've done above, from `dta` to this final result, and put it together into a single method chain."
   ]
  },
  {
   "cell_type": "code",
   "execution_count": null,
   "metadata": {},
   "outputs": [],
   "source": [
    "# Type your solution here"
   ]
  },
  {
   "cell_type": "code",
   "execution_count": null,
   "metadata": {},
   "outputs": [],
   "source": [
    "%load solutions/complete_chain.py"
   ]
  },
  {
   "cell_type": "markdown",
   "metadata": {},
   "source": [
    "Often, I'll try to place a method chain to get the data ready for more exploratory work at the top of a notebook, so I can proceed with any analyses."
   ]
  },
  {
   "cell_type": "markdown",
   "metadata": {},
   "source": [
    "Now, let's go back to our original data and add in the unstacked violations to the information that's unchanging. Recall from the previous notebook that we unstack the violations as follows. There are two new things to note here though. We add in a `to_frame` method to turn the unstacked Series into a DataFrame, and we `rename` the unnamed column in the resulting DataFrame back to `violations`."
   ]
  },
  {
   "cell_type": "code",
   "execution_count": null,
   "metadata": {},
   "outputs": [],
   "source": [
    "(dta.violations\n",
    " .str.split(\"|\", expand=True)\n",
    " .unstack()\n",
    " .dropna()\n",
    " .reset_index(level=0, drop=True)\n",
    " .str.strip()\n",
    " .rename('violations')\n",
    " .to_frame())"
   ]
  },
  {
   "cell_type": "markdown",
   "metadata": {},
   "source": [
    "First, we need to drop the violations from the original DataFrame, then we need to merge it with the unstacked violations Series that we created before. You can use `drop` to do this."
   ]
  },
  {
   "cell_type": "code",
   "execution_count": null,
   "metadata": {},
   "outputs": [],
   "source": [
    "dta.drop([\"violations\"], axis='columns').head()"
   ]
  },
  {
   "cell_type": "markdown",
   "metadata": {},
   "source": [
    "## Exercise\n",
    "\n",
    "Drop the original violations from `dta`, and **join** this to the unstacked violations as computed above. You'll probably want to use a **right join**.\n",
    "\n",
    "We use **join** here rather than **merge**. Join uses merge under the hood but conveniently allows us to join on the indices of the two DataFrames by default. One other difference is that join uses an inner merge by default, but that's not what we want here. Since we drop the null violations on the right-hand side DataFrame, we want to do a right join. "
   ]
  },
  {
   "cell_type": "code",
   "execution_count": null,
   "metadata": {},
   "outputs": [],
   "source": [
    "# Type your solution here"
   ]
  },
  {
   "cell_type": "code",
   "execution_count": null,
   "metadata": {},
   "outputs": [],
   "source": [
    "%load solutions/join_violations.py"
   ]
  },
  {
   "cell_type": "markdown",
   "metadata": {},
   "source": [
    "Now that we have a relatively clean DataFrame, let's ask a few more questions. \n",
    "\n",
    "First, how many unique violations do we have?"
   ]
  },
  {
   "cell_type": "code",
   "execution_count": null,
   "metadata": {},
   "outputs": [],
   "source": [
    "dta.shape"
   ]
  },
  {
   "cell_type": "code",
   "execution_count": null,
   "metadata": {},
   "outputs": [],
   "source": [
    "dta.violations.head()"
   ]
  },
  {
   "cell_type": "code",
   "execution_count": null,
   "metadata": {},
   "outputs": [],
   "source": [
    "dta.violations.unique().shape"
   ]
  },
  {
   "cell_type": "markdown",
   "metadata": {},
   "source": [
    "Is this true? Do we really think there are this many violation numbers? Probably not. We can use the `str` accessor and some more munging to answer this. Here we pass a **regular expression** to `str.extract`. Extract expects a *capture group*, indicated by `()`. The regular expression `(\\d+\\)(?=\\.)` means capture 1 or more (`+`) digits (`\\d`) that is followed by (`(?=)`) a period `\\.`. We escape the period because a plain `.` is a wildcard for any character."
   ]
  },
  {
   "cell_type": "code",
   "execution_count": null,
   "metadata": {},
   "outputs": [],
   "source": [
    "(dta.violations\n",
    " .str.extract(\"(\\d+)(?=\\.)\", expand=False)\n",
    " .astype(int))"
   ]
  },
  {
   "cell_type": "markdown",
   "metadata": {},
   "source": [
    "So how many unique violations do we have?"
   ]
  },
  {
   "cell_type": "code",
   "execution_count": null,
   "metadata": {},
   "outputs": [],
   "source": [
    "np.sort(\n",
    "    dta.violations\n",
    "        .str.extract(\"(\\d+)(?=\\.)\", expand=False)\n",
    "        .astype(int)\n",
    "        .unique()\n",
    ").shape"
   ]
  },
  {
   "cell_type": "markdown",
   "metadata": {},
   "source": [
    "Second, can we figure out how many times an establishment previously failed an inspection (within the sample we have)? How might we approach this? \n",
    "\n",
    "First, we want to restrict the data to just a single row for each inspection. Since we merged everything with the unstacked violations above, we'll need to use `drop_duplicates` to do this."
   ]
  },
  {
   "cell_type": "code",
   "execution_count": null,
   "metadata": {},
   "outputs": [],
   "source": [
    "visits = dta.drop_duplicates([\"address\", \"dba_name\", \"inspection_date\"])"
   ]
  },
  {
   "cell_type": "markdown",
   "metadata": {},
   "source": [
    "We're going to rely on some pandas time-series functionality to do this, so we will need to ensure that the inspection dates are sorted within each group. GroupBy will preserve this."
   ]
  },
  {
   "cell_type": "code",
   "execution_count": null,
   "metadata": {},
   "outputs": [],
   "source": [
    "visits = visits.sort_values([\"address\", \"dba_name\", \"inspection_date\"])"
   ]
  },
  {
   "cell_type": "code",
   "execution_count": null,
   "metadata": {},
   "outputs": [],
   "source": [
    "grouper = visits.groupby((visits.address, visits.dba_name))"
   ]
  },
  {
   "cell_type": "markdown",
   "metadata": {},
   "source": [
    "Ok, we might ask, \"now what?\" Remember the trick to pull out groups? Let's use it to work with something we can think about."
   ]
  },
  {
   "cell_type": "code",
   "execution_count": null,
   "metadata": {},
   "outputs": [],
   "source": [
    "group_key = list(grouper.groups.keys())[0]"
   ]
  },
  {
   "cell_type": "code",
   "execution_count": null,
   "metadata": {},
   "outputs": [],
   "source": [
    "group_key"
   ]
  },
  {
   "cell_type": "code",
   "execution_count": null,
   "metadata": {},
   "outputs": [],
   "source": [
    "group = grouper.get_group(group_key)"
   ]
  },
  {
   "cell_type": "code",
   "execution_count": null,
   "metadata": {},
   "outputs": [],
   "source": [
    "group"
   ]
  },
  {
   "cell_type": "code",
   "execution_count": null,
   "metadata": {},
   "outputs": [],
   "source": [
    "group[['inspection_date', 'results']]"
   ]
  },
  {
   "cell_type": "markdown",
   "metadata": {},
   "source": [
    "Since, we need this to be backwards looking, we will **shift** the data by one visit. Shifting will move the data around by either a number of periods or a frequency. In this case, we use a number of periods and shift forward by 1 period."
   ]
  },
  {
   "cell_type": "code",
   "execution_count": null,
   "metadata": {},
   "outputs": [],
   "source": [
    "group.shift(1)[['inspection_date', 'results']]"
   ]
  },
  {
   "cell_type": "markdown",
   "metadata": {},
   "source": [
    "If we take the cumulative sum of this, we'll have an accurate picture of previous failures."
   ]
  },
  {
   "cell_type": "code",
   "execution_count": null,
   "metadata": {},
   "outputs": [],
   "source": [
    "(group.shift(1).results == 'Fail').cumsum()"
   ]
  },
  {
   "cell_type": "code",
   "execution_count": null,
   "metadata": {},
   "outputs": [],
   "source": [
    "visit_num = grouper.apply(lambda df: (df.shift(1).results == 'Fail').cumsum())"
   ]
  },
  {
   "cell_type": "code",
   "execution_count": null,
   "metadata": {},
   "outputs": [],
   "source": [
    "visit_num.head(n=15)"
   ]
  },
  {
   "cell_type": "code",
   "execution_count": null,
   "metadata": {},
   "outputs": [],
   "source": [
    "(visit_num.reset_index(level=[0, 1], drop=True)\n",
    " .to_frame()\n",
    " .rename(\n",
    "    columns={'results': 'num_fails'}\n",
    "))"
   ]
  },
  {
   "cell_type": "code",
   "execution_count": null,
   "metadata": {},
   "outputs": [],
   "source": [
    "dta.head()"
   ]
  },
  {
   "cell_type": "code",
   "execution_count": null,
   "metadata": {},
   "outputs": [],
   "source": [
    "visit_num.head()"
   ]
  },
  {
   "cell_type": "code",
   "execution_count": null,
   "metadata": {},
   "outputs": [],
   "source": [
    "visit_num.reset_index(level=[0, 1], drop=True).head()"
   ]
  },
  {
   "cell_type": "code",
   "execution_count": null,
   "metadata": {},
   "outputs": [],
   "source": [
    "(visit_num.reset_index(level=[0, 1], drop=True)\n",
    " .to_frame()\n",
    " .rename(\n",
    "    columns={'results': 'num_fails'}\n",
    "))"
   ]
  },
  {
   "cell_type": "code",
   "execution_count": null,
   "metadata": {},
   "outputs": [],
   "source": [
    "dta.join((visit_num.reset_index(level=[0, 1], drop=True)\n",
    " .to_frame()\n",
    " .rename(\n",
    "    columns={'results': 'num_fails'}\n",
    ")))"
   ]
  }
 ],
 "metadata": {
  "kernelspec": {
   "display_name": "Python 3",
   "language": "python",
   "name": "python3"
  },
  "language_info": {
   "codemirror_mode": {
    "name": "ipython",
    "version": 3
   },
   "file_extension": ".py",
   "mimetype": "text/x-python",
   "name": "python",
   "nbconvert_exporter": "python",
   "pygments_lexer": "ipython3",
   "version": "3.7.1"
  }
 },
 "nbformat": 4,
 "nbformat_minor": 2
}
